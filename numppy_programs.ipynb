{
  "nbformat": 4,
  "nbformat_minor": 0,
  "metadata": {
    "colab": {
      "provenance": [],
      "authorship_tag": "ABX9TyOsdROxPeIJfOWskoAD9yCN",
      "include_colab_link": true
    },
    "kernelspec": {
      "name": "python3",
      "display_name": "Python 3"
    },
    "language_info": {
      "name": "python"
    }
  },
  "cells": [
    {
      "cell_type": "markdown",
      "metadata": {
        "id": "view-in-github",
        "colab_type": "text"
      },
      "source": [
        "<a href=\"https://colab.research.google.com/github/Mahendravusa002/python-for-datascience/blob/main/numppy_programs.ipynb\" target=\"_parent\"><img src=\"https://colab.research.google.com/assets/colab-badge.svg\" alt=\"Open In Colab\"/></a>"
      ]
    },
    {
      "cell_type": "markdown",
      "source": [
        "creating np array by list"
      ],
      "metadata": {
        "id": "wCkQpKtI77bh"
      }
    },
    {
      "cell_type": "code",
      "execution_count": null,
      "metadata": {
        "colab": {
          "base_uri": "https://localhost:8080/"
        },
        "id": "xVegXn136m92",
        "outputId": "0f00aeef-5fcf-4b96-934c-3ef7feae0df7"
      },
      "outputs": [
        {
          "output_type": "stream",
          "name": "stdout",
          "text": [
            "[1 2 3 4 5]\n",
            "<class 'numpy.ndarray'>\n"
          ]
        }
      ],
      "source": [
        "import numpy as np\n",
        "a=np.array([1,2,3,4,5])\n",
        "print(a)\n",
        "print(type(a))"
      ]
    },
    {
      "cell_type": "markdown",
      "source": [
        "creating np array with tuple"
      ],
      "metadata": {
        "id": "kb2ZL92j7Gsk"
      }
    },
    {
      "cell_type": "code",
      "source": [
        "import numpy as np\n",
        "b=np.array(((1,2,3),(4,5,6)))\n",
        "print(b)\n",
        "print(type(b))\n"
      ],
      "metadata": {
        "colab": {
          "base_uri": "https://localhost:8080/"
        },
        "id": "CgR9iupq7FaY",
        "outputId": "aaa622a6-7ddc-4ca6-cf81-744adf458d41"
      },
      "execution_count": null,
      "outputs": [
        {
          "output_type": "stream",
          "name": "stdout",
          "text": [
            "[[1 2 3]\n",
            " [4 5 6]]\n",
            "<class 'numpy.ndarray'>\n"
          ]
        }
      ]
    },
    {
      "cell_type": "markdown",
      "source": [
        "o"
      ],
      "metadata": {
        "id": "RhoIs6Ot9z26"
      }
    },
    {
      "cell_type": "markdown",
      "source": [
        "creating 0 dim array"
      ],
      "metadata": {
        "id": "YywoUX0Y_qaB"
      }
    },
    {
      "cell_type": "code",
      "source": [
        "c=np.array(9,dtype=float)\n",
        "print(c)\n",
        "print(c.dtype)\n",
        "print(c.ndim)\n",
        "d=np.array(66)\n",
        "print(d)\n",
        "e=np.array(\"m\")\n",
        "print()\n"
      ],
      "metadata": {
        "id": "jKrzef9t8ERa",
        "colab": {
          "base_uri": "https://localhost:8080/"
        },
        "outputId": "2a0ec546-0167-4b13-ff07-cde1b87cceb0"
      },
      "execution_count": 10,
      "outputs": [
        {
          "output_type": "stream",
          "name": "stdout",
          "text": [
            "9.0\n",
            "float64\n",
            "0\n"
          ]
        }
      ]
    },
    {
      "cell_type": "code",
      "source": [
        "a=np.array([1,2,3],ndmin=4)\n",
        "print(a,\"\\n \",a.ndim)"
      ],
      "metadata": {
        "colab": {
          "base_uri": "https://localhost:8080/"
        },
        "id": "w1jwSsPy_w-w",
        "outputId": "0ee3fc81-2ddc-4411-c38a-b751c8a84be1"
      },
      "execution_count": 15,
      "outputs": [
        {
          "output_type": "stream",
          "name": "stdout",
          "text": [
            "[[[[1 2 3]]]] \n",
            "  4\n"
          ]
        }
      ]
    },
    {
      "cell_type": "code",
      "source": [
        "a=np.array([[[1.8,2,3],[4,2,5]],[[3,2,1],[5,2,4]]])\n",
        "print(\"type:\",type(a))\n",
        "print(a)\n",
        "print(a.shape)\n",
        "print(a.size)\n",
        "print(a.ndim)\n",
        "print(a.dtype)"
      ],
      "metadata": {
        "colab": {
          "base_uri": "https://localhost:8080/"
        },
        "id": "Ej1WA9TDBgRP",
        "outputId": "17933b31-6d35-4d23-c941-7c1d6e1dc94b"
      },
      "execution_count": 20,
      "outputs": [
        {
          "output_type": "stream",
          "name": "stdout",
          "text": [
            "type: <class 'numpy.ndarray'>\n",
            "[[[1.8 2.  3. ]\n",
            "  [4.  2.  5. ]]\n",
            "\n",
            " [[3.  2.  1. ]\n",
            "  [5.  2.  4. ]]]\n",
            "(2, 2, 3)\n",
            "12\n",
            "3\n",
            "float64\n"
          ]
        }
      ]
    },
    {
      "cell_type": "code",
      "source": [
        "a=np.array([[1,2,3],[4,5,6]])\n"
      ],
      "metadata": {
        "id": "V3Bl4hVdDdv9"
      },
      "execution_count": null,
      "outputs": []
    }
  ]
}