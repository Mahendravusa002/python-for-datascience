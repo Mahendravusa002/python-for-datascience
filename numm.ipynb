{
 "cells": [
  {
   "cell_type": "code",
   "execution_count": 8,
   "id": "6c762717",
   "metadata": {},
   "outputs": [
    {
     "name": "stdout",
     "output_type": "stream",
     "text": [
      "[1 3 4 5 6 7]\n",
      "[7 6 5 4 3 1]\n",
      "[5]\n"
     ]
    }
   ],
   "source": [
    "import numpy as np\n",
    "a=np.array([1,3,4,5,6,7])\n",
    "print(a)\n",
    "print(a[::-1])\n",
    "print(a[3:4])"
   ]
  },
  {
   "cell_type": "code",
   "execution_count": 22,
   "id": "8b206339",
   "metadata": {},
   "outputs": [
    {
     "name": "stdout",
     "output_type": "stream",
     "text": [
      "Reversing the rows:\n",
      " [[  7  88   9 100  78]\n",
      " [  3   5   9   0   8]\n",
      " [  1   3   4   5   6]]\n",
      "Reversing the elements and rows:\n",
      " [[ 78 100   9  88   7]\n",
      " [  8   0   9   5   3]\n",
      " [  6   5   4   3   1]]\n",
      "slicing the array:\n",
      " [[3 5]\n",
      " [5 0]]\n"
     ]
    }
   ],
   "source": [
    "import numpy as np\n",
    "a=np.array([[1,3,4,5,6],[3,5,9,0,8],[7,88,9,100,78]])\n",
    "print( \"Reversing the rows:\\n\",a[::-1])\n",
    "print(\"Reversing the elements and rows:\\n\",a[::-1,::-1])\n",
    "print(\"slicing the array:\\n\",a[:2,1:5:2])"
   ]
  },
  {
   "cell_type": "code",
   "execution_count": 39,
   "id": "c60af5b1",
   "metadata": {},
   "outputs": [
    {
     "name": "stdout",
     "output_type": "stream",
     "text": [
      "[[[  1   2   3   4]\n",
      "  [  5   7   6   8]\n",
      "  [  4   6   8   9]]\n",
      "\n",
      " [[ 99   0   8   7]\n",
      "  [ 33  45  32   1]\n",
      "  [ 90 100  23  45]]]\n",
      "revesing 2d arrays:\n",
      " [[[ 99   0   8   7]\n",
      "  [ 33  45  32   1]\n",
      "  [ 90 100  23  45]]\n",
      "\n",
      " [[  1   2   3   4]\n",
      "  [  5   7   6   8]\n",
      "  [  4   6   8   9]]]\n",
      "reversing rows in 2d arrays:\n",
      " [[[ 90 100  23  45]\n",
      "  [ 33  45  32   1]\n",
      "  [ 99   0   8   7]]\n",
      "\n",
      " [[  4   6   8   9]\n",
      "  [  5   7   6   8]\n",
      "  [  1   2   3   4]]]\n",
      "reversing elements&rows in 2d arrays:\n",
      " [[[ 45  23 100  90]\n",
      "  [  1  32  45  33]\n",
      "  [  7   8   0  99]]\n",
      "\n",
      " [[  9   8   6   4]\n",
      "  [  8   6   7   5]\n",
      "  [  4   3   2   1]]]\n",
      "totally reversed:\n",
      "[[[  9   8   6   4]\n",
      "  [  8   6   7   5]\n",
      "  [  4   3   2   1]]\n",
      "\n",
      " [[ 45  23 100  90]\n",
      "  [  1  32  45  33]\n",
      "  [  7   8   0  99]]]\n",
      "array slicing:\n",
      " [[[4 3 2 1]]]\n"
     ]
    }
   ],
   "source": [
    "import numpy as np\n",
    "a=np.array([[[1,2,3,4],[5,7,6,8],[4,6,8,9]],[[99,0,8,7],[33,45,32,1],[90,100,23,45]]])\n",
    "print(a)\n",
    "l=[]\n",
    "print(\"revesing 2d arrays:\\n\",a[::-1])\n",
    "print(\"reversing rows in 2d arrays:\\n\",a[::-1,::-1])\n",
    "print(\"reversing elements&rows in 2d arrays:\\n\",a[::-1,::-1,::-1])\n",
    "print(\"totally reversed:\")\n",
    "for  i in a:\n",
    "    l.append(i[::-1,::-1])\n",
    "print(np.array(l))\n",
    "print(\"array slicing:\\n\",a[:1,:1,::-1])"
   ]
  },
  {
   "cell_type": "code",
   "execution_count": 46,
   "id": "3f76964a",
   "metadata": {},
   "outputs": [
    {
     "name": "stdout",
     "output_type": "stream",
     "text": [
      "[b'1' b'2' b'3' b'4']\n",
      "['1' '2' '3' '4']\n"
     ]
    }
   ],
   "source": [
    "import numpy as np\n",
    "a=np.array([1,2,3,4],dtype='S')\n",
    "print(a)\n",
    "b=np.array([1,2,3,4],dtype='U')\n",
    "print(b)"
   ]
  },
  {
   "cell_type": "code",
   "execution_count": 10,
   "id": "3b5cefbd",
   "metadata": {},
   "outputs": [
    {
     "name": "stdout",
     "output_type": "stream",
     "text": [
      "(2, 3)\n",
      "[1 2 3 4 5 6]\n",
      "[[1 2 3 4 5 6]]\n",
      "[[1 2]\n",
      " [3 4]\n",
      " [5 6]]\n"
     ]
    }
   ],
   "source": [
    "import numpy as np\n",
    "a=np.array([[1,2,3],[4,5,6]])\n",
    "b=np.array([[1,2,3],[2,3,4]])\n",
    "print(a.shape)\n",
    "x=a.reshape(1,6)\n",
    "print(a.reshape(-1))\n",
    "print(x)\n",
    "print(a.reshape(3,2))"
   ]
  },
  {
   "cell_type": "code",
   "execution_count": 26,
   "id": "217a9890",
   "metadata": {},
   "outputs": [
    {
     "name": "stdout",
     "output_type": "stream",
     "text": [
      "1 2 3 4 5 6 \n",
      "\n",
      "[1 2 3 4 5 6] 1 2 3 4 5 6 \n",
      "\n",
      "[ 6  7  8  9  0 77] 6 7 8 9 0 77 \n",
      "\n",
      "\n",
      "\n",
      "1 2 3 4 5 6 6 7 8 9 0 77 \n",
      "\n",
      "1 2 3 4 5 6 4 5 6 88 99 0 "
     ]
    }
   ],
   "source": [
    "import numpy as np\n",
    "a=np.array([1,2,3,4,5,6])\n",
    "for i in a:\n",
    "    print(i,end =\" \")\n",
    "print(\"\\n\")\n",
    "b=np.array([[1,2,3,4,5,6],[6,7,8,9,0,77]])\n",
    "for i in b:\n",
    "    print(i,end=\" \")\n",
    "    for j in i:\n",
    "        print(j,end=\" \")\n",
    "    print(\"\\n\")\n",
    "print(\"\\n\")\n",
    "for i in np.nditer(b):\n",
    "    print(i,end=\" \")\n",
    "print(\"\\n\")\n",
    "c=np.array([[[1,2,3],[4,5,6]],[[4,5,6],[88,99,0]]])\n",
    "for i in np.nditer(c):\n",
    "    print(i,end=\" \")\n",
    "        "
   ]
  },
  {
   "cell_type": "code",
   "execution_count": 39,
   "id": "ce68b7d0",
   "metadata": {},
   "outputs": [
    {
     "name": "stdout",
     "output_type": "stream",
     "text": [
      "addition of a and b:\n",
      " [[ 5 11 93]\n",
      " [13  3 29]]\n",
      "addtion of e and d:\n",
      "10 11 \n",
      "Zip Method return like this: [(1, 9), (2, 9)]\n",
      "2\n"
     ]
    }
   ],
   "source": [
    "import numpy as np\n",
    "a=np.array([[1,2,3],[9,0,8]])\n",
    "b=np.array([[4,9,90],[4,3,21]])\n",
    "c=np.add(a,b)\n",
    "print(\"addition of a and b:\\n\",c)\n",
    "d=np.array([1,2,3])\n",
    "e=np.array([9,9])\n",
    "#print(np.add(d,e))\n",
    "print(\"addtion of e and d:\")\n",
    "for i,j in zip(d,e):\n",
    "    print(i+j,end=\" \")\n",
    "print(\"\\nZip Method return like this:\",list(zip(d,e)))\n",
    "\n",
    "    "
   ]
  },
  {
   "cell_type": "code",
   "execution_count": 56,
   "id": "cca04676",
   "metadata": {},
   "outputs": [
    {
     "name": "stdout",
     "output_type": "stream",
     "text": [
      "subtraction: [-5 -5 -5 -5]\n",
      "multiplication : [ 6 14 24 36]\n",
      "Division: [6.         3.5        2.66666667 2.25      ]\n",
      "Power: [     1    128   6561 262144]\n",
      "mod: [0 1 2 1]\n",
      "abs: [1 2 3 4]\n",
      "quotient or mod: (array([1, 1, 1, 1], dtype=int32), array([0, 0, 0, 0], dtype=int32))\n",
      "FOR 2DIM\n",
      "subtraction: [[ -5  -5  -5  -5]\n",
      " [  4 -83  -3   1]]\n",
      "multiplication : [[  6  14  24  36]\n",
      " [  0 440  54  42]]\n",
      "Division: [[ 6.          3.5         2.66666667  2.25      ]\n",
      " [ 0.         17.6         1.5         0.85714286]]\n",
      "Power: [[        1       128      6561    262144]\n",
      " [        1 591228065  10077696    117649]]\n",
      "mod: [[0 1 2 1]\n",
      " [0 3 3 6]]\n",
      "abs: [[1 2 3 4]\n",
      " [4 5 6 7]]\n",
      "quotient or mod: (array([[1, 1, 1, 1],\n",
      "       [1, 1, 1, 1]], dtype=int32), array([[0, 0, 0, 0],\n",
      "       [0, 0, 0, 0]], dtype=int32))\n"
     ]
    }
   ],
   "source": [
    "import numpy as np\n",
    "a=np.array([1,2,3,4])\n",
    "b=np.array([6,7,8,9])\n",
    "c=np.subtract(a,b)\n",
    "print(\"subtraction:\",np.subtract(a,b))\n",
    "print(\"multiplication :\",np.multiply(a,b))\n",
    "print(\"Division:\",np.divide(b,a))\n",
    "print(\"Power:\",np.power(a,b))\n",
    "print(\"mod:\",np.mod(b,a))\n",
    "print(\"abs:\",np.abs(a,b))\n",
    "print(\"quotient or mod:\",np.divmod(a,b))\n",
    "print(\"FOR 2DIM\")\n",
    "a=np.array([[1,2,3,4],[4,5,6,7]])\n",
    "b=np.array([[6,7,8,9],[0,88,9,6]])\n",
    "c=np.subtract(a,b)\n",
    "print(\"subtraction:\",np.subtract(a,b))\n",
    "print(\"multiplication :\",np.multiply(a,b))\n",
    "print(\"Division:\",np.divide(b,a))\n",
    "print(\"Power:\",np.power(a,b))\n",
    "print(\"mod:\",np.mod(b,a))\n",
    "print(\"abs:\",np.abs(a,b))\n",
    "print(\"quotient or mod:\",np.divmod(a,b))"
   ]
  },
  {
   "cell_type": "code",
   "execution_count": 62,
   "id": "0da16fcc",
   "metadata": {},
   "outputs": [
    {
     "name": "stdout",
     "output_type": "stream",
     "text": [
      "Truncating: [  3.  -2. -55.   7.]\n",
      "Around: [  4.  -2. -56.   8.]\n",
      "Ceiling: [  4.  -2. -55.   8.]\n",
      "Flooring : [  3.  -3. -56.   7.]\n",
      "Fix [  3.  -2. -55.   7.]\n"
     ]
    }
   ],
   "source": [
    "import numpy as np\n",
    "a=np.array([3.88,-2.33,-55.55,7.8])\n",
    "print(\"Truncating:\",np.trunc(a))\n",
    "print(\"Around:\",np.around(a))\n",
    "print(\"Ceiling:\",np.ceil(a))\n",
    "print(\"Flooring :\",np.floor(a))\n",
    "print(\"Fix\",np.fix(a))"
   ]
  },
  {
   "cell_type": "code",
   "execution_count": null,
   "id": "b55345dd",
   "metadata": {},
   "outputs": [],
   "source": []
  }
 ],
 "metadata": {
  "kernelspec": {
   "display_name": "Python 3 (ipykernel)",
   "language": "python",
   "name": "python3"
  },
  "language_info": {
   "codemirror_mode": {
    "name": "ipython",
    "version": 3
   },
   "file_extension": ".py",
   "mimetype": "text/x-python",
   "name": "python",
   "nbconvert_exporter": "python",
   "pygments_lexer": "ipython3",
   "version": "3.9.7"
  }
 },
 "nbformat": 4,
 "nbformat_minor": 5
}
